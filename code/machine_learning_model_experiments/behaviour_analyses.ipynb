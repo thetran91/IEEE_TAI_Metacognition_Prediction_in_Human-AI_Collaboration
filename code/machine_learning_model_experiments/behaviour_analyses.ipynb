{
 "cells": [
  {
   "cell_type": "code",
   "execution_count": null,
   "metadata": {},
   "outputs": [],
   "source": [
    "### combine all the behaviour data from different sessions into one file"
   ]
  },
  {
   "cell_type": "code",
   "execution_count": 3,
   "metadata": {},
   "outputs": [
    {
     "name": "stdout",
     "output_type": "stream",
     "text": [
      "Combined CSV file saved at: /projects/CIBCIGroup/00DataUploading/Eric/BBS/Decision Making/Publications/C4-CHI2025/Data/behaviour_all_sessions/combined_behaviour_data.csv\n"
     ]
    }
   ],
   "source": [
    "import os\n",
    "import pandas as pd\n",
    "\n",
    "# Define the folder where all CSV files are located\n",
    "folder_path = '/projects/CIBCIGroup/00DataUploading/Eric/BBS/Decision Making/Publications/C4-CHI2025/Data/behaviour_all_sessions'\n",
    "\n",
    "# Get the list of all CSV files in the folder\n",
    "csv_files = [f for f in os.listdir(folder_path) if f.endswith('.csv')]\n",
    "\n",
    "# Initialize an empty list to store individual DataFrames\n",
    "dfs = []\n",
    "\n",
    "# Loop through the CSV files and read each into a DataFrame, then append it to the list\n",
    "for file in csv_files:\n",
    "    file_path = os.path.join(folder_path, file)\n",
    "    df = pd.read_csv(file_path)\n",
    "    dfs.append(df)\n",
    "\n",
    "# Concatenate all DataFrames into a single DataFrame\n",
    "combined_df = pd.concat(dfs, ignore_index=True)\n",
    "\n",
    "# Save the combined DataFrame to a new CSV file\n",
    "combined_csv_path = os.path.join(folder_path, 'combined_behaviour_data.csv')\n",
    "combined_df.to_csv(combined_csv_path, index=False)\n",
    "\n",
    "print(f\"Combined CSV file saved at: {combined_csv_path}\")\n"
   ]
  },
  {
   "cell_type": "code",
   "execution_count": null,
   "metadata": {},
   "outputs": [],
   "source": [
    "### two sessions of behaviour data Session1 - Vietnam behaviour only, Session2 - with EEG"
   ]
  },
  {
   "cell_type": "code",
   "execution_count": 10,
   "metadata": {},
   "outputs": [
    {
     "name": "stdout",
     "output_type": "stream",
     "text": [
      "Cleaned session 1 data saved to: /projects/CIBCIGroup/00DataUploading/Eric/BBS/Decision Making/Publications/C4-CHI2025/Data/behaviour_all_sessions/combined_behaviour_session1_cleaned.csv\n",
      "Cleaned session 2 data saved to: /projects/CIBCIGroup/00DataUploading/Eric/BBS/Decision Making/Publications/C4-CHI2025/Data/behaviour_all_sessions/combined_behaviour_session2_cleaned.csv\n"
     ]
    }
   ],
   "source": [
    "# import os\n",
    "# import pandas as pd\n",
    "\n",
    "# # Set the folder path where your CSV files are stored\n",
    "# folder_path = '/projects/CIBCIGroup/00DataUploading/Eric/BBS/Decision Making/Publications/C4-CHI2025/Data/behaviour_all_sessions'\n",
    "\n",
    "# # Get the list of all CSV files in the folder\n",
    "# csv_files = [f for f in os.listdir(folder_path) if f.endswith('.csv')]\n",
    "\n",
    "# # Split the files into two sessions\n",
    "# session1_files = [f for f in csv_files if int(f.split('.')[0]) in range(1, 18) and int(f.split('.')[0]) not in [8, 14]]\n",
    "# session2_files = [f for f in csv_files if int(f.split('.')[0]) in range(19, 32)]\n",
    "\n",
    "# # Function to combine and clean CSV files\n",
    "# def combine_and_clean_csv_files(files, folder_path):\n",
    "#     dfs = []\n",
    "#     for file in files:\n",
    "#         file_path = os.path.join(folder_path, file)\n",
    "#         df = pd.read_csv(file_path)\n",
    "#         # Remove rows where 'x' appears in 'PlayerTarget1', 'PlayerTarget2', or 'ConfidentLevel'\n",
    "#         df_cleaned = df[(df['PlayerTarget1'] != 'x') & (df['PlayerTarget2'] != 'x') & (df['ConfidentLevel'] != 'x')]\n",
    "#         dfs.append(df_cleaned)\n",
    "#     return pd.concat(dfs, ignore_index=True)\n",
    "\n",
    "# # Combine and clean files for session 1 and session 2\n",
    "# session1_df = combine_and_clean_csv_files(session1_files, folder_path)\n",
    "# session2_df = combine_and_clean_csv_files(session2_files, folder_path)\n",
    "\n",
    "# # Save the cleaned DataFrames to new CSV files\n",
    "# session1_file_path = os.path.join(folder_path, 'combined_behaviour_session1_cleaned.csv')\n",
    "# session2_file_path = os.path.join(folder_path, 'combined_behaviour_session2_cleaned.csv')\n",
    "\n",
    "# session1_df.to_csv(session1_file_path, index=False)\n",
    "# session2_df.to_csv(session2_file_path, index=False)\n",
    "\n",
    "# print(f\"Cleaned session 1 data saved to: {session1_file_path}\")\n",
    "# print(f\"Cleaned session 2 data saved to: {session2_file_path}\")\n"
   ]
  },
  {
   "cell_type": "code",
   "execution_count": null,
   "metadata": {},
   "outputs": [],
   "source": [
    "## Remove not reponse trials"
   ]
  },
  {
   "cell_type": "code",
   "execution_count": 5,
   "metadata": {},
   "outputs": [
    {
     "name": "stdout",
     "output_type": "stream",
     "text": [
      "Cleaned data saved to combined_behaviour_remove_nan_response.csv\n"
     ]
    }
   ],
   "source": [
    "# import pandas as pd\n",
    "\n",
    "# # Load the combined behaviour data CSV file (adjust the path to where your file is located)\n",
    "# file_path = '/projects/CIBCIGroup/00DataUploading/Eric/BBS/Decision Making/Publications/C4-CHI2025/Data/behaviour_all_sessions/combined_behaviour_data.csv'\n",
    "# df = pd.read_csv(file_path)\n",
    "\n",
    "# # Remove rows where 'x' appears in 'PlayerTarget1', 'PlayerTarget2', or 'ConfidentLevel'\n",
    "# df_cleaned = df[(df['PlayerTarget1'] != 'x') & (df['PlayerTarget2'] != 'x') & (df['ConfidentLevel'] != 'x')]\n",
    "\n",
    "# # Save the cleaned data to a new CSV file\n",
    "# cleaned_file_path = 'combined_behaviour_remove_nan_response.csv'\n",
    "# df_cleaned.to_csv(cleaned_file_path, index=False)\n",
    "\n",
    "# print(f\"Cleaned data saved to {cleaned_file_path}\")\n"
   ]
  },
  {
   "cell_type": "code",
   "execution_count": null,
   "metadata": {},
   "outputs": [],
   "source": [
    "# Ok, we got the combined_behaviour_data.xlsx, and I would like to do some analysis. \n",
    "# First, could you create a table to summarise the mean value of columns 'Correct_1' and 'Correct_2' by people in the 'Name' column?"
   ]
  },
  {
   "cell_type": "code",
   "execution_count": null,
   "metadata": {},
   "outputs": [],
   "source": [
    "### All sessions behaviour analysis"
   ]
  },
  {
   "cell_type": "code",
   "execution_count": 16,
   "metadata": {},
   "outputs": [
    {
     "name": "stdout",
     "output_type": "stream",
     "text": [
      "Summary for combined sessions saved to /projects/CIBCIGroup/00DataUploading/Eric/BBS/Decision Making/Publications/C4-CHI2025/Results/Behaviour_results/summary_correct_combined.csv\n",
      "Plot for combined sessions saved to /projects/CIBCIGroup/00DataUploading/Eric/BBS/Decision Making/Publications/C4-CHI2025/Results/Behaviour_results/plot_correct_combined.png\n"
     ]
    }
   ],
   "source": [
    "# import pandas as pd\n",
    "# import matplotlib.pyplot as plt\n",
    "# import seaborn as sns\n",
    "\n",
    "# # Load the combined behaviour data CSV file\n",
    "# combined_file_path = '/projects/CIBCIGroup/00DataUploading/Eric/BBS/Decision Making/Publications/C4-CHI2025/Data/Behaviour_combined/combined_behaviour_remove_nan_response.csv'\n",
    "# df_combined = pd.read_csv(combined_file_path)\n",
    "\n",
    "# # Function to process and visualize the combined session\n",
    "# def process_combined_session(data, session_name):\n",
    "#     # Create a mapping of unique participant names to IDs (01 to the number of unique names)\n",
    "#     unique_names = data['Name'].unique()\n",
    "#     participant_id_map = {name: f\"{i+1:02d}\" for i, name in enumerate(unique_names)}\n",
    "\n",
    "#     # Map the participant names to IDs\n",
    "#     data['Participant_ID'] = data['Name'].map(participant_id_map)\n",
    "\n",
    "#     # Calculate the mean value of 'Correct_1' and 'Correct_2' by the 'Participant_ID' column\n",
    "#     summary_table = data.groupby('Participant_ID')[['Correct_1', 'Correct_2']].mean().reset_index()\n",
    "\n",
    "#     # Save the summary to a new file\n",
    "#     summary_file_path = f'/projects/CIBCIGroup/00DataUploading/Eric/BBS/Decision Making/Publications/C4-CHI2025/Results/Behaviour_results/summary_correct_combined.csv'\n",
    "#     summary_table.to_csv(summary_file_path, index=False)\n",
    "#     print(f\"Summary for {session_name} saved to {summary_file_path}\")\n",
    "\n",
    "#     # Compute the overall mean for Correct_1 and Correct_2\n",
    "#     mean_correct_1 = summary_table['Correct_1'].mean()\n",
    "#     mean_correct_2 = summary_table['Correct_2'].mean()\n",
    "\n",
    "#     # Create a bar plot to visualize the mean Correct_1 and Correct_2 values for each person\n",
    "#     plt.figure(figsize=(10, 6))\n",
    "\n",
    "#     # Define a better color palette\n",
    "#     sns.barplot(x='Participant_ID', y='Correct_2', data=summary_table, color='#ff9999', label='Correct_2')  # Set Correct_2 behind\n",
    "#     sns.barplot(x='Participant_ID', y='Correct_1', data=summary_table, color='#66b3ff', label='Correct_1')  # Set Correct_1 in front\n",
    "\n",
    "#     # Plot the overall group means\n",
    "#     plt.axhline(mean_correct_1, color='blue', linestyle='--', label=f'Mean Correct_1: {mean_correct_1:.2f}')\n",
    "#     plt.axhline(mean_correct_2, color='red', linestyle='--', label=f'Mean Correct_2: {mean_correct_2:.2f}')\n",
    "\n",
    "#     # Customize the plot\n",
    "#     plt.xticks(rotation=45, ha='right')\n",
    "#     plt.title(f'Mean Correct_1 and Correct_2 by Participant ID - {session_name}')\n",
    "#     plt.ylabel('Mean Value')\n",
    "#     plt.xlabel('Participant ID')\n",
    "#     plt.legend()\n",
    "\n",
    "#     # Save the plot\n",
    "#     plot_file_path = f'/projects/CIBCIGroup/00DataUploading/Eric/BBS/Decision Making/Publications/C4-CHI2025/Results/Behaviour_results/plot_correct_combined.png'\n",
    "#     plt.tight_layout()\n",
    "#     plt.savefig(plot_file_path)\n",
    "#     plt.close()\n",
    "\n",
    "#     print(f\"Plot for {session_name} saved to {plot_file_path}\")\n",
    "\n",
    "# # Process the combined session data\n",
    "# process_combined_session(df_combined, \"combined sessions\")\n"
   ]
  },
  {
   "cell_type": "markdown",
   "metadata": {},
   "source": [
    "### Table III"
   ]
  },
  {
   "cell_type": "code",
   "execution_count": 28,
   "metadata": {},
   "outputs": [
    {
     "name": "stdout",
     "output_type": "stream",
     "text": [
      "AI Suggestion Sequence Impact on Confidence Levels:\n",
      "ConfidenceGroup             High       Low    Medium\n",
      "AI_Suggestion_Sequence                              \n",
      "Correct/Correct         0.863436  0.048458  0.088106\n",
      "Correct/Incorrect       0.726087  0.043478  0.230435\n",
      "Incorrect/Correct       0.714912  0.074561  0.210526\n",
      "Incorrect/Incorrect     0.548458  0.156388  0.295154\n"
     ]
    }
   ],
   "source": [
    "import pandas as pd\n",
    "\n",
    "# Load the combined behaviour data CSV file\n",
    "combined_file_path = '/projects/CIBCIGroup/00DataUploading/Eric/BBS/Decision Making/Publications/C4-CHI2025/Data/Behaviour_combined/combined_behaviour_remove_nan_response.csv'\n",
    "df_combined = pd.read_csv(combined_file_path)\n",
    "\n",
    "# Step 1: Categorize the AI suggestion sequence\n",
    "def categorize_ai_suggestion(row):\n",
    "    if row['AI1 Correct'] == 1 and row['AI2 Correct'] == 1:\n",
    "        return 'Correct/Correct'\n",
    "    elif row['AI1 Correct'] == 1 and row['AI2 Correct'] == 0:\n",
    "        return 'Correct/Incorrect'\n",
    "    elif row['AI1 Correct'] == 0 and row['AI2 Correct'] == 1:\n",
    "        return 'Incorrect/Correct'\n",
    "    elif row['AI1 Correct'] == 0 and row['AI2 Correct'] == 0:\n",
    "        return 'Incorrect/Incorrect'\n",
    "\n",
    "# Apply the function to create a new column 'AI_Suggestion_Sequence'\n",
    "df_combined['AI_Suggestion_Sequence'] = df_combined.apply(categorize_ai_suggestion, axis=1)\n",
    "\n",
    "# Step 2: Categorize the confidence levels\n",
    "def categorize_confidence(confidence_level):\n",
    "    if confidence_level in [0, 1]:\n",
    "        return 'Low'\n",
    "    elif confidence_level in [2, 3]:\n",
    "        return 'Medium'\n",
    "    elif confidence_level in [4, 5]:\n",
    "        return 'High'\n",
    "\n",
    "# Apply the function to create a new column for confidence group\n",
    "df_combined['ConfidenceGroup'] = df_combined['ConfidentLevel'].apply(categorize_confidence)\n",
    "\n",
    "# Step 3: Analyze the relationship between AI suggestion sequence and confidence levels\n",
    "ai_confidence_stats = pd.crosstab(df_combined['AI_Suggestion_Sequence'], df_combined['ConfidenceGroup'], normalize='index')\n",
    "\n",
    "# Print the result\n",
    "print(\"AI Suggestion Sequence Impact on Confidence Levels:\")\n",
    "print(ai_confidence_stats)\n",
    "\n",
    "# # Optionally, save the results to a CSV file\n",
    "# output_file = '/projects/CIBCIGroup/00DataUploading/Eric/BBS/Decision Making/Publications/C4-CHI2025/Results/ai_suggestion_vs_confidence.csv'\n",
    "# ai_confidence_stats.to_csv(output_file)\n",
    "# print(f\"AI suggestion vs confidence table saved to {output_file}\")\n"
   ]
  },
  {
   "cell_type": "markdown",
   "metadata": {},
   "source": [
    "### Table II"
   ]
  },
  {
   "cell_type": "code",
   "execution_count": 29,
   "metadata": {},
   "outputs": [
    {
     "name": "stdout",
     "output_type": "stream",
     "text": [
      "Mean and Standard Deviation of Confident Decision Time by AI Suggestion Sequence:\n",
      "  AI_Suggestion_Sequence      mean       std\n",
      "0        Correct/Correct  0.748943  0.369587\n",
      "1      Correct/Incorrect  0.730174  0.371024\n",
      "2      Incorrect/Correct  0.768289  0.397960\n",
      "3    Incorrect/Incorrect  0.741366  0.390215\n"
     ]
    }
   ],
   "source": [
    "import pandas as pd\n",
    "\n",
    "# Load the combined behaviour data CSV file\n",
    "combined_file_path = '/projects/CIBCIGroup/00DataUploading/Eric/BBS/Decision Making/Publications/C4-CHI2025/Data/Behaviour_combined/combined_behaviour_remove_nan_response.csv'\n",
    "df_combined = pd.read_csv(combined_file_path)\n",
    "\n",
    "# Step 1: Categorize the AI suggestion sequence (similar to previous analysis)\n",
    "def categorize_ai_suggestion(row):\n",
    "    if row['AI1 Correct'] == 1 and row['AI2 Correct'] == 1:\n",
    "        return 'Correct/Correct'\n",
    "    elif row['AI1 Correct'] == 1 and row['AI2 Correct'] == 0:\n",
    "        return 'Correct/Incorrect'\n",
    "    elif row['AI1 Correct'] == 0 and row['AI2 Correct'] == 1:\n",
    "        return 'Incorrect/Correct'\n",
    "    elif row['AI1 Correct'] == 0 and row['AI2 Correct'] == 0:\n",
    "        return 'Incorrect/Incorrect'\n",
    "\n",
    "# Apply the function to create a new column 'AI_Suggestion_Sequence'\n",
    "df_combined['AI_Suggestion_Sequence'] = df_combined.apply(categorize_ai_suggestion, axis=1)\n",
    "\n",
    "# Step 2: Group by 'AI_Suggestion_Sequence' and calculate mean and std of 'SecondsConfident'\n",
    "ai_confidence_time_stats = df_combined.groupby('AI_Suggestion_Sequence')['SecondsConfident'].agg(['mean', 'std']).reset_index()\n",
    "\n",
    "# Print the result\n",
    "print(\"Mean and Standard Deviation of Confident Decision Time by AI Suggestion Sequence:\")\n",
    "print(ai_confidence_time_stats)\n",
    "\n",
    "# # Optionally, save the results to a CSV file\n",
    "# output_file = '/projects/CIBCIGroup/00DataUploading/Eric/BBS/Decision Making/Publications/C4-CHI2025/Results/ai_suggestion_vs_confidence_time.csv'\n",
    "# ai_confidence_time_stats.to_csv(output_file, index=False)\n",
    "# print(f\"AI suggestion vs confident decision time statistics saved to {output_file}\")\n"
   ]
  },
  {
   "cell_type": "code",
   "execution_count": 32,
   "metadata": {},
   "outputs": [
    {
     "name": "stdout",
     "output_type": "stream",
     "text": [
      "Mean and Standard Deviation of Decision Time by AI Suggestion Sequence:\n",
      "  AI_Suggestion_Sequence SecondsTarget1           SecondsTarget2          \n",
      "                                   mean       std           mean       std\n",
      "0        Correct/Correct       0.598018  0.324929       0.459163  0.263633\n",
      "1      Correct/Incorrect       0.569739  0.334190       0.502739  0.313798\n",
      "2      Incorrect/Correct       0.663991  0.360730       0.545044  0.327543\n",
      "3    Incorrect/Incorrect       0.669097  0.373587       0.500617  0.287918\n"
     ]
    }
   ],
   "source": [
    "import pandas as pd\n",
    "\n",
    "# Load the combined behaviour data CSV file\n",
    "combined_file_path = '/projects/CIBCIGroup/00DataUploading/Eric/BBS/Decision Making/Publications/C4-CHI2025/Data/Behaviour_combined/combined_behaviour_remove_nan_response.csv'\n",
    "df_combined = pd.read_csv(combined_file_path)\n",
    "\n",
    "# Step 1: Categorize the AI suggestion sequence (as done before)\n",
    "def categorize_ai_suggestion(row):\n",
    "    if row['AI1 Correct'] == 1 and row['AI2 Correct'] == 1:\n",
    "        return 'Correct/Correct'\n",
    "    elif row['AI1 Correct'] == 1 and row['AI2 Correct'] == 0:\n",
    "        return 'Correct/Incorrect'\n",
    "    elif row['AI1 Correct'] == 0 and row['AI2 Correct'] == 1:\n",
    "        return 'Incorrect/Correct'\n",
    "    elif row['AI1 Correct'] == 0 and row['AI2 Correct'] == 0:\n",
    "        return 'Incorrect/Incorrect'\n",
    "\n",
    "# Apply the function to create a new column 'AI_Suggestion_Sequence'\n",
    "df_combined['AI_Suggestion_Sequence'] = df_combined.apply(categorize_ai_suggestion, axis=1)\n",
    "\n",
    "# Step 2: Group by 'AI_Suggestion_Sequence' and calculate mean and std of 'SecondsTarget1' and 'SecondsTarget2'\n",
    "decision_time_stats = df_combined.groupby('AI_Suggestion_Sequence')[['SecondsTarget1', 'SecondsTarget2']].agg(['mean', 'std']).reset_index()\n",
    "\n",
    "# Print the result\n",
    "print(\"Mean and Standard Deviation of Decision Time by AI Suggestion Sequence:\")\n",
    "print(decision_time_stats)\n",
    "\n",
    "# # Optionally, save the results to a CSV file\n",
    "# output_file = '/projects/CIBCIGroup/00DataUploading/Eric/BBS/Decision Making/Publications/C4-CHI2025/Results/ai_suggestion_vs_decision_time.csv'\n",
    "# decision_time_stats.to_csv(output_file, index=False)\n",
    "# print(f\"AI suggestion vs decision time statistics saved to {output_file}\")\n"
   ]
  },
  {
   "cell_type": "markdown",
   "metadata": {},
   "source": [
    "### Table I"
   ]
  },
  {
   "cell_type": "code",
   "execution_count": 33,
   "metadata": {},
   "outputs": [
    {
     "name": "stdout",
     "output_type": "stream",
     "text": [
      "Mean and Standard Deviation of Decision Accuracy by AI Suggestion Sequence:\n",
      "  AI_Suggestion_Sequence Correct_1           Correct_2          \n",
      "                              mean       std      mean       std\n",
      "0        Correct/Correct  0.881057  0.324437  0.929515  0.256528\n",
      "1      Correct/Incorrect  0.913043  0.282386  0.900000  0.300654\n",
      "2      Incorrect/Correct  0.482456  0.500792  0.837719  0.369519\n",
      "3    Incorrect/Incorrect  0.455947  0.498605  0.605727  0.489233\n"
     ]
    }
   ],
   "source": [
    "import pandas as pd\n",
    "\n",
    "# Load the combined behaviour data CSV file\n",
    "combined_file_path = '/projects/CIBCIGroup/00DataUploading/Eric/BBS/Decision Making/Publications/C4-CHI2025/Data/Behaviour_combined/combined_behaviour_remove_nan_response.csv'\n",
    "df_combined = pd.read_csv(combined_file_path)\n",
    "\n",
    "# Step 1: Categorize the AI suggestion sequence (as done before)\n",
    "def categorize_ai_suggestion(row):\n",
    "    if row['AI1 Correct'] == 1 and row['AI2 Correct'] == 1:\n",
    "        return 'Correct/Correct'\n",
    "    elif row['AI1 Correct'] == 1 and row['AI2 Correct'] == 0:\n",
    "        return 'Correct/Incorrect'\n",
    "    elif row['AI1 Correct'] == 0 and row['AI2 Correct'] == 1:\n",
    "        return 'Incorrect/Correct'\n",
    "    elif row['AI1 Correct'] == 0 and row['AI2 Correct'] == 0:\n",
    "        return 'Incorrect/Incorrect'\n",
    "\n",
    "# Apply the function to create a new column 'AI_Suggestion_Sequence'\n",
    "df_combined['AI_Suggestion_Sequence'] = df_combined.apply(categorize_ai_suggestion, axis=1)\n",
    "\n",
    "# Step 2: Group by 'AI_Suggestion_Sequence' and calculate mean and std of 'SecondsTarget1' and 'SecondsTarget2'\n",
    "decision_time_stats = df_combined.groupby('AI_Suggestion_Sequence')[['Correct_1', 'Correct_2']].agg(['mean', 'std']).reset_index()\n",
    "\n",
    "# Print the result\n",
    "print(\"Mean and Standard Deviation of Decision Accuracy by AI Suggestion Sequence:\")\n",
    "print(decision_time_stats)"
   ]
  },
  {
   "cell_type": "code",
   "execution_count": null,
   "metadata": {},
   "outputs": [],
   "source": []
  },
  {
   "cell_type": "code",
   "execution_count": null,
   "metadata": {},
   "outputs": [],
   "source": []
  },
  {
   "cell_type": "code",
   "execution_count": null,
   "metadata": {},
   "outputs": [],
   "source": []
  }
 ],
 "metadata": {
  "kernelspec": {
   "display_name": "Python 3",
   "language": "python",
   "name": "python3"
  },
  "language_info": {
   "codemirror_mode": {
    "name": "ipython",
    "version": 3
   },
   "file_extension": ".py",
   "mimetype": "text/x-python",
   "name": "python",
   "nbconvert_exporter": "python",
   "pygments_lexer": "ipython3",
   "version": "3.9.17"
  }
 },
 "nbformat": 4,
 "nbformat_minor": 2
}
